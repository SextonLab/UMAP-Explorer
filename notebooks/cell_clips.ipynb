{
 "cells": [
  {
   "cell_type": "code",
   "execution_count": 1,
   "id": "af4e99bc-e291-443d-a27a-c50d79a34c45",
   "metadata": {
    "collapsed": true,
    "jupyter": {
     "outputs_hidden": true
    }
   },
   "outputs": [
    {
     "name": "stderr",
     "output_type": "stream",
     "text": [
      "2025-06-23 15:51:07.536449: E external/local_xla/xla/stream_executor/cuda/cuda_fft.cc:485] Unable to register cuFFT factory: Attempting to register factory for plugin cuFFT when one has already been registered\n",
      "2025-06-23 15:51:07.546989: E external/local_xla/xla/stream_executor/cuda/cuda_dnn.cc:8454] Unable to register cuDNN factory: Attempting to register factory for plugin cuDNN when one has already been registered\n",
      "2025-06-23 15:51:07.550175: E external/local_xla/xla/stream_executor/cuda/cuda_blas.cc:1452] Unable to register cuBLAS factory: Attempting to register factory for plugin cuBLAS when one has already been registered\n",
      "2025-06-23 15:51:07.558412: I tensorflow/core/platform/cpu_feature_guard.cc:210] This TensorFlow binary is optimized to use available CPU instructions in performance-critical operations.\n",
      "To enable the following instructions: AVX2 FMA, in other operations, rebuild TensorFlow with the appropriate compiler flags.\n",
      "2025-06-23 15:51:08.275663: W tensorflow/compiler/tf2tensorrt/utils/py_utils.cc:38] TF-TRT Warning: Could not find TensorRT\n"
     ]
    }
   ],
   "source": [
    "import os\n",
    "import sqlite3\n",
    "import pandas as pd\n",
    "from skimage import measure, io\n",
    "from skimage.morphology import label\n",
    "import numpy as np\n",
    "\n",
    "from explorer import get_crops\n",
    "\n",
    "path = '/mnt/sextonlabdata/Active_Users_Data/Sophia/Colonoids/Caco2/ZO1Screen/SRM_BIS_009/'\n",
    "\n",
    "con = sqlite3.connect(os.path.join(path, 'BIS_009.db'))\n",
    "\n",
    "query_objects = \"\"\"\n",
    "SELECT *\n",
    "FROM MyExpt_Per_Object_UMAP a\n",
    "JOIN MyExpt_Per_Image b ON a.ImageNumber = b.ImageNumber\n",
    "\"\"\" #change UMAP table name and column names accodingly\n",
    "df = pd.read_sql_query(query_objects, con)\n",
    "\n",
    "# Close the connection\n",
    "con.close()"
   ]
  },
  {
   "cell_type": "code",
   "execution_count": 2,
   "id": "1bdad411-da8e-4a8b-9348-6a7b98fed468",
   "metadata": {},
   "outputs": [],
   "source": [
    "bbox_col = 'Cell_AreaShape_BoundingBoxArea'\n",
    "bbox_area = 46874\n",
    "\n",
    "chan1_col = 'Image_FileName_DNA'\n",
    "chan2_col = 'Image_FileName_CMO'\n",
    "chan3_col = 'Image_FileName_Claudin2'\n",
    "\n",
    "cluster_col = 'leiden_cluster'\n",
    "\n",
    "base_path = \"/mnt/instrumentdata/CV8000/Sophia/BIS009_20240701_102850/PECCU/\"\n",
    "output_path = \"/hdd/tools/UMAP-Explorer/notebooks/test_output2/\""
   ]
  },
  {
   "cell_type": "code",
   "execution_count": 3,
   "id": "3d4594f9-a846-4a73-b395-ad0983572827",
   "metadata": {
    "collapsed": true,
    "jupyter": {
     "outputs_hidden": true
    }
   },
   "outputs": [
    {
     "name": "stderr",
     "output_type": "stream",
     "text": [
      "0it [00:00, ?it/s]/hdd/tools/UMAP-Explorer/explorer/find_clusters.py:32: FutureWarning: Series.__getitem__ treating keys as positions is deprecated. In a future version, integer keys will always be treated as labels (consistent with DataFrame behavior). To access a value by position, use `ser.iloc[pos]`\n",
      "  chan1 = io.imread(os.path.join(img_dir, row[chan1_col][0]))\n",
      "/hdd/tools/UMAP-Explorer/explorer/find_clusters.py:33: FutureWarning: Series.__getitem__ treating keys as positions is deprecated. In a future version, integer keys will always be treated as labels (consistent with DataFrame behavior). To access a value by position, use `ser.iloc[pos]`\n",
      "  chan2 = io.imread(os.path.join(img_dir, row[chan2_col][0]))\n",
      "/hdd/tools/UMAP-Explorer/explorer/find_clusters.py:34: FutureWarning: Series.__getitem__ treating keys as positions is deprecated. In a future version, integer keys will always be treated as labels (consistent with DataFrame behavior). To access a value by position, use `ser.iloc[pos]`\n",
      "  chan3 = io.imread(os.path.join(img_dir, row[chan3_col][0]))\n",
      "1it [00:00,  2.96it/s]/hdd/tools/UMAP-Explorer/explorer/find_clusters.py:32: FutureWarning: Series.__getitem__ treating keys as positions is deprecated. In a future version, integer keys will always be treated as labels (consistent with DataFrame behavior). To access a value by position, use `ser.iloc[pos]`\n",
      "  chan1 = io.imread(os.path.join(img_dir, row[chan1_col][0]))\n",
      "/hdd/tools/UMAP-Explorer/explorer/find_clusters.py:33: FutureWarning: Series.__getitem__ treating keys as positions is deprecated. In a future version, integer keys will always be treated as labels (consistent with DataFrame behavior). To access a value by position, use `ser.iloc[pos]`\n",
      "  chan2 = io.imread(os.path.join(img_dir, row[chan2_col][0]))\n",
      "/hdd/tools/UMAP-Explorer/explorer/find_clusters.py:34: FutureWarning: Series.__getitem__ treating keys as positions is deprecated. In a future version, integer keys will always be treated as labels (consistent with DataFrame behavior). To access a value by position, use `ser.iloc[pos]`\n",
      "  chan3 = io.imread(os.path.join(img_dir, row[chan3_col][0]))\n",
      "2it [00:00,  2.99it/s]/hdd/tools/UMAP-Explorer/explorer/find_clusters.py:32: FutureWarning: Series.__getitem__ treating keys as positions is deprecated. In a future version, integer keys will always be treated as labels (consistent with DataFrame behavior). To access a value by position, use `ser.iloc[pos]`\n",
      "  chan1 = io.imread(os.path.join(img_dir, row[chan1_col][0]))\n",
      "/hdd/tools/UMAP-Explorer/explorer/find_clusters.py:33: FutureWarning: Series.__getitem__ treating keys as positions is deprecated. In a future version, integer keys will always be treated as labels (consistent with DataFrame behavior). To access a value by position, use `ser.iloc[pos]`\n",
      "  chan2 = io.imread(os.path.join(img_dir, row[chan2_col][0]))\n",
      "/hdd/tools/UMAP-Explorer/explorer/find_clusters.py:34: FutureWarning: Series.__getitem__ treating keys as positions is deprecated. In a future version, integer keys will always be treated as labels (consistent with DataFrame behavior). To access a value by position, use `ser.iloc[pos]`\n",
      "  chan3 = io.imread(os.path.join(img_dir, row[chan3_col][0]))\n",
      "3it [00:00,  3.08it/s]/hdd/tools/UMAP-Explorer/explorer/find_clusters.py:32: FutureWarning: Series.__getitem__ treating keys as positions is deprecated. In a future version, integer keys will always be treated as labels (consistent with DataFrame behavior). To access a value by position, use `ser.iloc[pos]`\n",
      "  chan1 = io.imread(os.path.join(img_dir, row[chan1_col][0]))\n",
      "/hdd/tools/UMAP-Explorer/explorer/find_clusters.py:33: FutureWarning: Series.__getitem__ treating keys as positions is deprecated. In a future version, integer keys will always be treated as labels (consistent with DataFrame behavior). To access a value by position, use `ser.iloc[pos]`\n",
      "  chan2 = io.imread(os.path.join(img_dir, row[chan2_col][0]))\n",
      "/hdd/tools/UMAP-Explorer/explorer/find_clusters.py:34: FutureWarning: Series.__getitem__ treating keys as positions is deprecated. In a future version, integer keys will always be treated as labels (consistent with DataFrame behavior). To access a value by position, use `ser.iloc[pos]`\n",
      "  chan3 = io.imread(os.path.join(img_dir, row[chan3_col][0]))\n",
      "4it [00:01,  3.33it/s]/hdd/tools/UMAP-Explorer/explorer/find_clusters.py:32: FutureWarning: Series.__getitem__ treating keys as positions is deprecated. In a future version, integer keys will always be treated as labels (consistent with DataFrame behavior). To access a value by position, use `ser.iloc[pos]`\n",
      "  chan1 = io.imread(os.path.join(img_dir, row[chan1_col][0]))\n",
      "/hdd/tools/UMAP-Explorer/explorer/find_clusters.py:33: FutureWarning: Series.__getitem__ treating keys as positions is deprecated. In a future version, integer keys will always be treated as labels (consistent with DataFrame behavior). To access a value by position, use `ser.iloc[pos]`\n",
      "  chan2 = io.imread(os.path.join(img_dir, row[chan2_col][0]))\n",
      "/hdd/tools/UMAP-Explorer/explorer/find_clusters.py:34: FutureWarning: Series.__getitem__ treating keys as positions is deprecated. In a future version, integer keys will always be treated as labels (consistent with DataFrame behavior). To access a value by position, use `ser.iloc[pos]`\n",
      "  chan3 = io.imread(os.path.join(img_dir, row[chan3_col][0]))\n",
      "5it [00:01,  3.41it/s]/hdd/tools/UMAP-Explorer/explorer/find_clusters.py:32: FutureWarning: Series.__getitem__ treating keys as positions is deprecated. In a future version, integer keys will always be treated as labels (consistent with DataFrame behavior). To access a value by position, use `ser.iloc[pos]`\n",
      "  chan1 = io.imread(os.path.join(img_dir, row[chan1_col][0]))\n",
      "/hdd/tools/UMAP-Explorer/explorer/find_clusters.py:33: FutureWarning: Series.__getitem__ treating keys as positions is deprecated. In a future version, integer keys will always be treated as labels (consistent with DataFrame behavior). To access a value by position, use `ser.iloc[pos]`\n",
      "  chan2 = io.imread(os.path.join(img_dir, row[chan2_col][0]))\n",
      "/hdd/tools/UMAP-Explorer/explorer/find_clusters.py:34: FutureWarning: Series.__getitem__ treating keys as positions is deprecated. In a future version, integer keys will always be treated as labels (consistent with DataFrame behavior). To access a value by position, use `ser.iloc[pos]`\n",
      "  chan3 = io.imread(os.path.join(img_dir, row[chan3_col][0]))\n",
      "6it [00:01,  3.47it/s]/hdd/tools/UMAP-Explorer/explorer/find_clusters.py:32: FutureWarning: Series.__getitem__ treating keys as positions is deprecated. In a future version, integer keys will always be treated as labels (consistent with DataFrame behavior). To access a value by position, use `ser.iloc[pos]`\n",
      "  chan1 = io.imread(os.path.join(img_dir, row[chan1_col][0]))\n",
      "/hdd/tools/UMAP-Explorer/explorer/find_clusters.py:33: FutureWarning: Series.__getitem__ treating keys as positions is deprecated. In a future version, integer keys will always be treated as labels (consistent with DataFrame behavior). To access a value by position, use `ser.iloc[pos]`\n",
      "  chan2 = io.imread(os.path.join(img_dir, row[chan2_col][0]))\n",
      "/hdd/tools/UMAP-Explorer/explorer/find_clusters.py:34: FutureWarning: Series.__getitem__ treating keys as positions is deprecated. In a future version, integer keys will always be treated as labels (consistent with DataFrame behavior). To access a value by position, use `ser.iloc[pos]`\n",
      "  chan3 = io.imread(os.path.join(img_dir, row[chan3_col][0]))\n",
      "7it [00:02,  3.47it/s]/hdd/tools/UMAP-Explorer/explorer/find_clusters.py:32: FutureWarning: Series.__getitem__ treating keys as positions is deprecated. In a future version, integer keys will always be treated as labels (consistent with DataFrame behavior). To access a value by position, use `ser.iloc[pos]`\n",
      "  chan1 = io.imread(os.path.join(img_dir, row[chan1_col][0]))\n",
      "/hdd/tools/UMAP-Explorer/explorer/find_clusters.py:33: FutureWarning: Series.__getitem__ treating keys as positions is deprecated. In a future version, integer keys will always be treated as labels (consistent with DataFrame behavior). To access a value by position, use `ser.iloc[pos]`\n",
      "  chan2 = io.imread(os.path.join(img_dir, row[chan2_col][0]))\n",
      "/hdd/tools/UMAP-Explorer/explorer/find_clusters.py:34: FutureWarning: Series.__getitem__ treating keys as positions is deprecated. In a future version, integer keys will always be treated as labels (consistent with DataFrame behavior). To access a value by position, use `ser.iloc[pos]`\n",
      "  chan3 = io.imread(os.path.join(img_dir, row[chan3_col][0]))\n",
      "8it [00:02,  3.34it/s]/hdd/tools/UMAP-Explorer/explorer/find_clusters.py:32: FutureWarning: Series.__getitem__ treating keys as positions is deprecated. In a future version, integer keys will always be treated as labels (consistent with DataFrame behavior). To access a value by position, use `ser.iloc[pos]`\n",
      "  chan1 = io.imread(os.path.join(img_dir, row[chan1_col][0]))\n",
      "/hdd/tools/UMAP-Explorer/explorer/find_clusters.py:33: FutureWarning: Series.__getitem__ treating keys as positions is deprecated. In a future version, integer keys will always be treated as labels (consistent with DataFrame behavior). To access a value by position, use `ser.iloc[pos]`\n",
      "  chan2 = io.imread(os.path.join(img_dir, row[chan2_col][0]))\n",
      "/hdd/tools/UMAP-Explorer/explorer/find_clusters.py:34: FutureWarning: Series.__getitem__ treating keys as positions is deprecated. In a future version, integer keys will always be treated as labels (consistent with DataFrame behavior). To access a value by position, use `ser.iloc[pos]`\n",
      "  chan3 = io.imread(os.path.join(img_dir, row[chan3_col][0]))\n",
      "9it [00:02,  3.36it/s]/hdd/tools/UMAP-Explorer/explorer/find_clusters.py:32: FutureWarning: Series.__getitem__ treating keys as positions is deprecated. In a future version, integer keys will always be treated as labels (consistent with DataFrame behavior). To access a value by position, use `ser.iloc[pos]`\n",
      "  chan1 = io.imread(os.path.join(img_dir, row[chan1_col][0]))\n",
      "/hdd/tools/UMAP-Explorer/explorer/find_clusters.py:33: FutureWarning: Series.__getitem__ treating keys as positions is deprecated. In a future version, integer keys will always be treated as labels (consistent with DataFrame behavior). To access a value by position, use `ser.iloc[pos]`\n",
      "  chan2 = io.imread(os.path.join(img_dir, row[chan2_col][0]))\n",
      "/hdd/tools/UMAP-Explorer/explorer/find_clusters.py:34: FutureWarning: Series.__getitem__ treating keys as positions is deprecated. In a future version, integer keys will always be treated as labels (consistent with DataFrame behavior). To access a value by position, use `ser.iloc[pos]`\n",
      "  chan3 = io.imread(os.path.join(img_dir, row[chan3_col][0]))\n",
      "10it [00:03,  3.34it/s]/hdd/tools/UMAP-Explorer/explorer/find_clusters.py:32: FutureWarning: Series.__getitem__ treating keys as positions is deprecated. In a future version, integer keys will always be treated as labels (consistent with DataFrame behavior). To access a value by position, use `ser.iloc[pos]`\n",
      "  chan1 = io.imread(os.path.join(img_dir, row[chan1_col][0]))\n",
      "/hdd/tools/UMAP-Explorer/explorer/find_clusters.py:33: FutureWarning: Series.__getitem__ treating keys as positions is deprecated. In a future version, integer keys will always be treated as labels (consistent with DataFrame behavior). To access a value by position, use `ser.iloc[pos]`\n",
      "  chan2 = io.imread(os.path.join(img_dir, row[chan2_col][0]))\n",
      "/hdd/tools/UMAP-Explorer/explorer/find_clusters.py:34: FutureWarning: Series.__getitem__ treating keys as positions is deprecated. In a future version, integer keys will always be treated as labels (consistent with DataFrame behavior). To access a value by position, use `ser.iloc[pos]`\n",
      "  chan3 = io.imread(os.path.join(img_dir, row[chan3_col][0]))\n",
      "11it [00:03,  3.47it/s]/hdd/tools/UMAP-Explorer/explorer/find_clusters.py:32: FutureWarning: Series.__getitem__ treating keys as positions is deprecated. In a future version, integer keys will always be treated as labels (consistent with DataFrame behavior). To access a value by position, use `ser.iloc[pos]`\n",
      "  chan1 = io.imread(os.path.join(img_dir, row[chan1_col][0]))\n",
      "/hdd/tools/UMAP-Explorer/explorer/find_clusters.py:33: FutureWarning: Series.__getitem__ treating keys as positions is deprecated. In a future version, integer keys will always be treated as labels (consistent with DataFrame behavior). To access a value by position, use `ser.iloc[pos]`\n",
      "  chan2 = io.imread(os.path.join(img_dir, row[chan2_col][0]))\n",
      "/hdd/tools/UMAP-Explorer/explorer/find_clusters.py:34: FutureWarning: Series.__getitem__ treating keys as positions is deprecated. In a future version, integer keys will always be treated as labels (consistent with DataFrame behavior). To access a value by position, use `ser.iloc[pos]`\n",
      "  chan3 = io.imread(os.path.join(img_dir, row[chan3_col][0]))\n",
      "12it [00:03,  3.52it/s]/hdd/tools/UMAP-Explorer/explorer/find_clusters.py:32: FutureWarning: Series.__getitem__ treating keys as positions is deprecated. In a future version, integer keys will always be treated as labels (consistent with DataFrame behavior). To access a value by position, use `ser.iloc[pos]`\n",
      "  chan1 = io.imread(os.path.join(img_dir, row[chan1_col][0]))\n",
      "/hdd/tools/UMAP-Explorer/explorer/find_clusters.py:33: FutureWarning: Series.__getitem__ treating keys as positions is deprecated. In a future version, integer keys will always be treated as labels (consistent with DataFrame behavior). To access a value by position, use `ser.iloc[pos]`\n",
      "  chan2 = io.imread(os.path.join(img_dir, row[chan2_col][0]))\n",
      "/hdd/tools/UMAP-Explorer/explorer/find_clusters.py:34: FutureWarning: Series.__getitem__ treating keys as positions is deprecated. In a future version, integer keys will always be treated as labels (consistent with DataFrame behavior). To access a value by position, use `ser.iloc[pos]`\n",
      "  chan3 = io.imread(os.path.join(img_dir, row[chan3_col][0]))\n",
      "13it [00:03,  3.59it/s]/hdd/tools/UMAP-Explorer/explorer/find_clusters.py:32: FutureWarning: Series.__getitem__ treating keys as positions is deprecated. In a future version, integer keys will always be treated as labels (consistent with DataFrame behavior). To access a value by position, use `ser.iloc[pos]`\n",
      "  chan1 = io.imread(os.path.join(img_dir, row[chan1_col][0]))\n",
      "/hdd/tools/UMAP-Explorer/explorer/find_clusters.py:33: FutureWarning: Series.__getitem__ treating keys as positions is deprecated. In a future version, integer keys will always be treated as labels (consistent with DataFrame behavior). To access a value by position, use `ser.iloc[pos]`\n",
      "  chan2 = io.imread(os.path.join(img_dir, row[chan2_col][0]))\n",
      "/hdd/tools/UMAP-Explorer/explorer/find_clusters.py:34: FutureWarning: Series.__getitem__ treating keys as positions is deprecated. In a future version, integer keys will always be treated as labels (consistent with DataFrame behavior). To access a value by position, use `ser.iloc[pos]`\n",
      "  chan3 = io.imread(os.path.join(img_dir, row[chan3_col][0]))\n",
      "14it [00:04,  3.45it/s]/hdd/tools/UMAP-Explorer/explorer/find_clusters.py:32: FutureWarning: Series.__getitem__ treating keys as positions is deprecated. In a future version, integer keys will always be treated as labels (consistent with DataFrame behavior). To access a value by position, use `ser.iloc[pos]`\n",
      "  chan1 = io.imread(os.path.join(img_dir, row[chan1_col][0]))\n",
      "/hdd/tools/UMAP-Explorer/explorer/find_clusters.py:33: FutureWarning: Series.__getitem__ treating keys as positions is deprecated. In a future version, integer keys will always be treated as labels (consistent with DataFrame behavior). To access a value by position, use `ser.iloc[pos]`\n",
      "  chan2 = io.imread(os.path.join(img_dir, row[chan2_col][0]))\n",
      "/hdd/tools/UMAP-Explorer/explorer/find_clusters.py:34: FutureWarning: Series.__getitem__ treating keys as positions is deprecated. In a future version, integer keys will always be treated as labels (consistent with DataFrame behavior). To access a value by position, use `ser.iloc[pos]`\n",
      "  chan3 = io.imread(os.path.join(img_dir, row[chan3_col][0]))\n",
      "15it [00:04,  3.40it/s]\n"
     ]
    }
   ],
   "source": [
    "get_crops(df, base_path, output_path, bbox_col, chan1_col, chan2_col, chan3_col, \n",
    "          bbox_area=bbox_area, cluster_col=cluster_col)"
   ]
  },
  {
   "cell_type": "code",
   "execution_count": null,
   "id": "ae87aeab-ee64-42b5-88e2-834752996166",
   "metadata": {},
   "outputs": [],
   "source": []
  }
 ],
 "metadata": {
  "kernelspec": {
   "display_name": "Python 3 (ipykernel)",
   "language": "python",
   "name": "python3"
  },
  "language_info": {
   "codemirror_mode": {
    "name": "ipython",
    "version": 3
   },
   "file_extension": ".py",
   "mimetype": "text/x-python",
   "name": "python",
   "nbconvert_exporter": "python",
   "pygments_lexer": "ipython3",
   "version": "3.12.3"
  }
 },
 "nbformat": 4,
 "nbformat_minor": 5
}
